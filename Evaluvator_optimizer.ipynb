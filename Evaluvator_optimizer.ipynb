{
 "cells": [
  {
   "cell_type": "code",
   "execution_count": 2,
   "id": "fba8d016",
   "metadata": {},
   "outputs": [],
   "source": [
    "from typing_extensions import TypedDict\n",
    "from pydantic import BaseModel,Field\n",
    "from typing import Literal\n",
    "from langchain_openai import ChatOpenAI\n",
    "from langchain_groq import ChatGroq\n",
    "from langchain_core.messages import HumanMessage, AIMessage,SystemMessage\n",
    "import os\n",
    "from dotenv import load_dotenv\n",
    "load_dotenv()\n",
    "from langgraph.graph import StateGraph, START,END\n",
    "\n",
    "os.environ[\"GROQ_API_KEY\"]=os.getenv(\"GROQ_API_KEY\")\n",
    "os.environ[\"OPENAI_API_KEY\"]=os.getenv(\"OPENAI_API_KEY\")\n",
    "\n",
    "llm=ChatGroq(model=\"llama-3.1-8b-instant\")\n"
   ]
  },
  {
   "cell_type": "code",
   "execution_count": 3,
   "id": "d9d3663c",
   "metadata": {},
   "outputs": [],
   "source": [
    "class Feedback(BaseModel):\n",
    "    grade:Literal[\"funny\",\"not_funny\"]=Field(description=\"Decide if the joke is funny or not.\")\n",
    "    feedback:str=Field(description=\"If the joke is not funny, provide feedback on how to improve it.\")"
   ]
  },
  {
   "cell_type": "code",
   "execution_count": 4,
   "id": "af7fa437",
   "metadata": {},
   "outputs": [],
   "source": [
    "evl=llm.with_structured_output(Feedback)"
   ]
  },
  {
   "cell_type": "code",
   "execution_count": 6,
   "id": "07cbcd57",
   "metadata": {},
   "outputs": [],
   "source": [
    "class State(TypedDict):\n",
    "    topic:str\n",
    "    joke:str\n",
    "    feedback:str\n",
    "    funny_or_not:str"
   ]
  },
  {
   "cell_type": "code",
   "execution_count": 7,
   "id": "0374956e",
   "metadata": {},
   "outputs": [],
   "source": [
    "def llm_call_generator(state:State):\n",
    "    '''Generae a joke '''\n",
    "    if state.get('feedback'):\n",
    "        msg=llm.invoke(f\"Write a joke about {state['topic']} but take into account the feedback: {state['feedback']}\")\n",
    "    else:\n",
    "        msg=llm.invoke(f\"Write a joke about {state['topic']}\")\n",
    "\n",
    "    return {\"joke\":msg.content}"
   ]
  },
  {
   "cell_type": "code",
   "execution_count": 8,
   "id": "63fab9a3",
   "metadata": {},
   "outputs": [],
   "source": [
    "def llm_call_evaluator(state:State):\n",
    "    grade=evl.invoke(f'grade the joke {state['joke']}')\n",
    "    return{\"funny_or_not\":grade.grade,\"feedback\":grade.feedback}"
   ]
  },
  {
   "cell_type": "code",
   "execution_count": 9,
   "id": "5c7bb97c",
   "metadata": {},
   "outputs": [],
   "source": [
    "def route_joke(state:State):\n",
    "    if state['funny_or_not']==\"funny\":\n",
    "        return \"Accepted\"\n",
    "    elif state[\"funny_or_not\"]==\"not_funny\":\n",
    "        return \"Rejected + feedback\""
   ]
  },
  {
   "cell_type": "code",
   "execution_count": 10,
   "id": "02820537",
   "metadata": {},
   "outputs": [
    {
     "data": {
      "text/plain": [
       "<langgraph.graph.state.StateGraph at 0x1e73b3699a0>"
      ]
     },
     "execution_count": 10,
     "metadata": {},
     "output_type": "execute_result"
    }
   ],
   "source": [
    "graph=StateGraph(State)\n",
    "\n",
    "graph.add_node(\"llm_call_generator\",llm_call_generator)\n",
    "graph.add_node(\"evaluator\", llm_call_evaluator)\n",
    "\n",
    "graph.add_edge(START,\"llm_call_generator\")\n",
    "graph.add_edge(\"llm_call_generator\",\"evaluator\")\n",
    "graph.add_conditional_edges(\"evaluator\",route_joke,{\"Accepted\":END,\"Rejected + feedback\":\"llm_call_generator\"})"
   ]
  },
  {
   "cell_type": "code",
   "execution_count": 11,
   "id": "2ea6acba",
   "metadata": {},
   "outputs": [],
   "source": [
    "build_graph=graph.compile()"
   ]
  },
  {
   "cell_type": "code",
   "execution_count": 13,
   "id": "d7134f93",
   "metadata": {},
   "outputs": [
    {
     "data": {
      "image/png": "[encoded data removed]",
      "text/plain": [
       "<IPython.core.display.Image object>"
      ]
     },
     "metadata": {},
     "output_type": "display_data"
    }
   ],
   "source": [
    "from IPython.display import Image,display\n",
    "display(Image(build_graph.get_graph().draw_mermaid_png()))"
   ]
  },
  {
   "cell_type": "code",
   "execution_count": 17,
   "id": "b9bdeec2",
   "metadata": {},
   "outputs": [
    {
     "data": {
      "text/plain": [
       "{'topic': 'AI News',\n",
       " 'joke': \"Why did the AI-powered news anchor break up with its girlfriend?\\n\\nBecause it couldn't fact-check its emotions, and it kept spewing out fake news about their relationship.\",\n",
       " 'feedback': \"The joke relies on a clever play on words, using the common phrase 'fact-check' and applying it to the AI's inability to check its emotions, and 'fake news' having a double meaning. It's a well-crafted pun that creates a humorous connection. To improve, consider varying the delivery or adding a twist to the punchline to keep it fresh.\",\n",
       " 'funny_or_not': 'funny'}"
      ]
     },
     "execution_count": 17,
     "metadata": {},
     "output_type": "execute_result"
    }
   ],
   "source": [
    "state=build_graph.invoke({\"topic\":\"AI News\"})\n",
    "state"
   ]
  },
  {
   "cell_type": "code",
   "execution_count": 19,
   "id": "0d8c1aea",
   "metadata": {},
   "outputs": [
    {
     "name": "stdout",
     "output_type": "stream",
     "text": [
      "Why did the AI-powered news anchor break up with its girlfriend?\n",
      "\n",
      "Because it couldn't fact-check its emotions, and it kept spewing out fake news about their relationship.\n"
     ]
    }
   ],
   "source": [
    "print(state[\"joke\"])"
   ]
  },
  {
   "cell_type": "code",
   "execution_count": null,
   "id": "ea2d7fda",
   "metadata": {},
   "outputs": [],
   "source": []
  }
 ],
 "metadata": {
  "kernelspec": {
   "display_name": "venv",
   "language": "python",
   "name": "python3"
  },
  "language_info": {
   "codemirror_mode": {
    "name": "ipython",
    "version": 3
   },
   "file_extension": ".py",
   "mimetype": "text/x-python",
   "name": "python",
   "nbconvert_exporter": "python",
   "pygments_lexer": "ipython3",
   "version": "3.12.6"
  }
 },
 "nbformat": 4,
 "nbformat_minor": 5
}
